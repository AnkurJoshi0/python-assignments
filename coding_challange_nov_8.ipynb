{
 "cells": [
  {
   "cell_type": "markdown",
   "id": "4e36423a",
   "metadata": {},
   "source": [
    "# Question 1. Write a python program that accepts a word from the user and reverse it."
   ]
  },
  {
   "cell_type": "code",
   "execution_count": 1,
   "id": "9e42e1ad",
   "metadata": {},
   "outputs": [
    {
     "name": "stdout",
     "output_type": "stream",
     "text": [
      "enter the statementankur joshi\n",
      "ihsoj rukna\n"
     ]
    }
   ],
   "source": [
    "a = input('enter the statement')\n",
    "print(a[::-1])"
   ]
  },
  {
   "cell_type": "markdown",
   "id": "30b096db",
   "metadata": {},
   "source": [
    "# Question 2. Write a python program to count the number of even and odd numbers from a series of numbers\n"
   ]
  },
  {
   "cell_type": "code",
   "execution_count": 4,
   "id": "8d522194",
   "metadata": {},
   "outputs": [
    {
     "name": "stdout",
     "output_type": "stream",
     "text": [
      "[2, 4, 6, 8, 10] "
     ]
    }
   ],
   "source": [
    "list1=[1,2,3,4,5,6,7,8,9,10]\n",
    "x = [num for num in list1  if (num%2)==0] \n",
    "print(x,end=' ')\n"
   ]
  },
  {
   "cell_type": "markdown",
   "id": "d29e2f15",
   "metadata": {},
   "source": [
    "# Question 3. Python program to capitalize the first and last character of each word in a string(Input string should be a statement)\n"
   ]
  },
  {
   "cell_type": "code",
   "execution_count": 5,
   "id": "4c901256",
   "metadata": {
    "scrolled": true
   },
   "outputs": [
    {
     "name": "stdout",
     "output_type": "stream",
     "text": [
      "PythoN IS AA HigH LeveL LanguagE\n"
     ]
    }
   ],
   "source": [
    "a = input('enter the statement')\n",
    "b = a.split()\n",
    "ls = []\n",
    "for i in b:\n",
    "    s = i[0].upper()\n",
    "    t = i[1:-1]\n",
    "    u = i[-1:].upper()\n",
    "    d = s+t+u\n",
    "    ls.append(d)\n",
    "    l = ' '.join(ls)\n",
    "print(l)"
   ]
  },
  {
   "cell_type": "markdown",
   "id": "730bc202",
   "metadata": {},
   "source": [
    "# Question 4. Python program to count the number of vowels in a given string.\n"
   ]
  },
  {
   "cell_type": "code",
   "execution_count": 4,
   "id": "36182ed2",
   "metadata": {},
   "outputs": [
    {
     "name": "stdout",
     "output_type": "stream",
     "text": [
      "ENTER YOUR SENTENCE: python is high level language \n",
      "9\n"
     ]
    }
   ],
   "source": [
    "a = str(input('ENTER YOUR SENTENCE: '))\n",
    "b= a.count('a')\n",
    "c= a.count('e')\n",
    "d= a.count('i')\n",
    "e= a.count('o')\n",
    "f= a.count('u')\n",
    "if 'i' or 'a' or 'e' or 'o' or 'u' in a:\n",
    "    print(b+c+d+e+f)\n",
    "else:\n",
    "    print(\"You don't have any vowels\")"
   ]
  },
  {
   "cell_type": "markdown",
   "id": "b8825b53",
   "metadata": {},
   "source": [
    "# Question 5. Python program to check if a string contains any special characters."
   ]
  },
  {
   "cell_type": "code",
   "execution_count": 5,
   "id": "c29a078b",
   "metadata": {},
   "outputs": [
    {
     "name": "stdout",
     "output_type": "stream",
     "text": [
      "ENTER YOUR SENTENCE: ankur##\n",
      "String Is Not Accepted\n"
     ]
    }
   ],
   "source": [
    "a = str(input('ENTER YOUR SENTENCE: '))\n",
    "b= '#'\n",
    "c= '@'\n",
    "d= '**'\n",
    "\n",
    "if b or c or d  in a:\n",
    "    print('String Is Not Accepted')\n",
    "else:\n",
    "    print('String Is Accepted')"
   ]
  },
  {
   "cell_type": "markdown",
   "id": "d0e7b985",
   "metadata": {},
   "source": [
    "# Question 6. Write a Python program to get a single string from two given strings, separated by a space and swap the first two characters of each string.\n"
   ]
  },
  {
   "cell_type": "code",
   "execution_count": 2,
   "id": "979aeb13",
   "metadata": {},
   "outputs": [
    {
     "name": "stdout",
     "output_type": "stream",
     "text": [
      "XYC\n",
      "ABZ\n"
     ]
    }
   ],
   "source": [
    "a = 'ABC'\n",
    "b= 'XYZ'\n",
    "c = a.replace('AB','XY')\n",
    "d = b.replace('XY','AB')\n",
    "print(c)\n",
    "print(d)"
   ]
  },
  {
   "cell_type": "markdown",
   "id": "0d75f2ce",
   "metadata": {},
   "source": [
    "# Question 8. Write a program that takes your full name as input and displays the abbreviations of the first and middle names except the last name which is displayed as it is. For example, if your name is Robert Brett Roser,then the output should be R.B.Roser."
   ]
  },
  {
   "cell_type": "code",
   "execution_count": 6,
   "id": "7d9d7fdf",
   "metadata": {},
   "outputs": [
    {
     "name": "stdout",
     "output_type": "stream",
     "text": [
      "Enter your first name: ankur\n",
      "Enter your middle name ashutosh\n",
      "Enter your last name: joshi\n",
      "a.a.joshi\n"
     ]
    }
   ],
   "source": [
    "a= str(input('Enter your first name: '))\n",
    "b= str(input('Enter your middle name '))\n",
    "c= str(input('Enter your last name: '))\n",
    "print(a[0]+'.'+b[0]+'.'+c)"
   ]
  },
  {
   "cell_type": "markdown",
   "id": "9e5903c9",
   "metadata": {},
   "source": [
    "# Question 9. Write a program to count occurrences of a substring in a string."
   ]
  },
  {
   "cell_type": "code",
   "execution_count": 11,
   "id": "eff753c6",
   "metadata": {},
   "outputs": [
    {
     "name": "stdout",
     "output_type": "stream",
     "text": [
      "3\n"
     ]
    }
   ],
   "source": [
    "a = 'abcabcdefabc'\n",
    "print(a.count('abc'))"
   ]
  },
  {
   "cell_type": "markdown",
   "id": "5c80722a",
   "metadata": {},
   "source": [
    "# Question 10. Write a program to convert a given string into a list of words."
   ]
  },
  {
   "cell_type": "code",
   "execution_count": 7,
   "id": "e5eb58a3",
   "metadata": {},
   "outputs": [
    {
     "name": "stdout",
     "output_type": "stream",
     "text": [
      "ENTER YOUR SENTENCE: ”The quick brown fox jumps over the lazy dog\n",
      "['”The', 'quick', 'brown', 'fox', 'jumps', 'over', 'the', 'lazy', 'dog']\n"
     ]
    }
   ],
   "source": [
    "a =str(input('ENTER YOUR SENTENCE: '))\n",
    "b = a.split()\n",
    "print(b)"
   ]
  },
  {
   "cell_type": "code",
   "execution_count": null,
   "id": "468fda38",
   "metadata": {},
   "outputs": [],
   "source": []
  }
 ],
 "metadata": {
  "kernelspec": {
   "display_name": "Python 3",
   "language": "python",
   "name": "python3"
  },
  "language_info": {
   "codemirror_mode": {
    "name": "ipython",
    "version": 3
   },
   "file_extension": ".py",
   "mimetype": "text/x-python",
   "name": "python",
   "nbconvert_exporter": "python",
   "pygments_lexer": "ipython3",
   "version": "3.8.8"
  }
 },
 "nbformat": 4,
 "nbformat_minor": 5
}
